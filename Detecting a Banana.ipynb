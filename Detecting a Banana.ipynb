{
 "cells": [
  {
   "cell_type": "code",
   "execution_count": 6,
   "metadata": {},
   "outputs": [
    {
     "name": "stdout",
     "output_type": "stream",
     "text": [
      "0.252\n"
     ]
    }
   ],
   "source": [
    "p_long_banana=400/500\n",
    "p_sweet_banana=350/500\n",
    "p_yellow_banana=450/500\n",
    "p_banana=500/1000\n",
    "p_banana_longsweetyellow=p_long_banana*p_sweet_banana*p_yellow_banana*p_banana\n",
    "print (p_banana_longsweetyellow)\n"
   ]
  },
  {
   "cell_type": "code",
   "execution_count": 10,
   "metadata": {},
   "outputs": [
    {
     "name": "stdout",
     "output_type": "stream",
     "text": [
      "0.0\n"
     ]
    }
   ],
   "source": [
    "p_long_orange=0/300\n",
    "p_sweet_orange=150/300\n",
    "p_yellow_orange=300/300\n",
    "p_orange=300/1000\n",
    "p_orange_longsweetyellow=p_long_orange*p_sweet_orange*p_yellow_orange*p_orange\n",
    "print (p_orange_longsweetyellow)\n"
   ]
  },
  {
   "cell_type": "code",
   "execution_count": null,
   "metadata": {},
   "outputs": [],
   "source": []
  },
  {
   "cell_type": "code",
   "execution_count": 11,
   "metadata": {},
   "outputs": [
    {
     "name": "stdout",
     "output_type": "stream",
     "text": [
      "0.028124999999999997\n"
     ]
    }
   ],
   "source": [
    "p_long_other=100/200\n",
    "p_sweet_other=150/200\n",
    "p_yellow_other=50/200\n",
    "p_other=200/1000\n",
    "p_other_longsweetyellow=p_long_other*p_sweet_other*p_yellow_other*p_orange\n",
    "print (p_other_longsweetyellow)\n"
   ]
  },
  {
   "cell_type": "code",
   "execution_count": 12,
   "metadata": {},
   "outputs": [],
   "source": [
    "def findBayesBananan(islong, issweet,isyellow,isthing):\n",
    "    return islong*issweet*isyellow*isthing\n"
   ]
  },
  {
   "cell_type": "code",
   "execution_count": null,
   "metadata": {},
   "outputs": [],
   "source": [
    "\n"
   ]
  }
 ],
 "metadata": {
  "kernelspec": {
   "display_name": "Python 3.6",
   "language": "python",
   "name": "python36"
  },
  "language_info": {
   "codemirror_mode": {
    "name": "ipython",
    "version": 3
   },
   "file_extension": ".py",
   "mimetype": "text/x-python",
   "name": "python",
   "nbconvert_exporter": "python",
   "pygments_lexer": "ipython3",
   "version": "3.6.3"
  }
 },
 "nbformat": 4,
 "nbformat_minor": 2
}
